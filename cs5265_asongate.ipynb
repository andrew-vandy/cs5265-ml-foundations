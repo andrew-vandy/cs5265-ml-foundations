{
  "nbformat": 4,
  "nbformat_minor": 0,
  "metadata": {
    "colab": {
      "provenance": [],
      "toc_visible": true,
      "authorship_tag": "ABX9TyPSTfAHHl9zkC7Mb1sVazWU",
      "include_colab_link": true
    },
    "kernelspec": {
      "name": "python3",
      "display_name": "Python 3"
    },
    "language_info": {
      "name": "python"
    }
  },
  "cells": [
    {
      "cell_type": "markdown",
      "metadata": {
        "id": "view-in-github",
        "colab_type": "text"
      },
      "source": [
        "<a href=\"https://colab.research.google.com/github/andrew-vandy/cs5265-ml-foundations/blob/main/cs5265_asongate.ipynb\" target=\"_parent\"><img src=\"https://colab.research.google.com/assets/colab-badge.svg\" alt=\"Open In Colab\"/></a>"
      ]
    },
    {
      "cell_type": "markdown",
      "source": [
        "# CS5265 Foundations of Machine Learning"
      ],
      "metadata": {
        "id": "V-qFsdQkNVZp"
      }
    },
    {
      "cell_type": "markdown",
      "source": [
        "## Background\n",
        "\n",
        "Customer churn is a major issue eCommerce businesses face. It is defined as the percentage of customers lost over a given period of time. According to customer data at Gorgias, repeat customers account only 21% of customers, but generate 44% of revenue and 46% of orders. Therefore it has become increasingly important to identify and mitigate factors that cause customer churn.\n",
        "\n",
        "Some of the challenges in building a predictive churn model are:\n",
        "\n",
        "1. Lack of a \"universal methodology\": There are machine learning methods like classification that can be used which are efficient and caretorize complex data sets. Another technique is Survival Analysis, which can predict churn over a given period.\n",
        "\n",
        "2. Exploratory Analysis: During the exploratory analysis phase, there could be missing information or lack of a robust attributes set.\n",
        "\n",
        "3. Human Behavior: It is hard to predict human behavior. A customer may spend a lot of time browsing different products but eventually not purchasing anything. On the other hand, you might have a customer who knows exactly what they need, spending less time on the site but purchasing a lot more products.\n",
        "\n"
      ],
      "metadata": {
        "id": "Fcw8ICWtNW12"
      }
    },
    {
      "cell_type": "markdown",
      "source": [
        "## Project Description\n",
        "\n",
        "The main topic of this project is to build a predictive model to perform customer churn analysis. We will use Binary Classification to determine if a customer will be lost(churn) or not. \n",
        "\n",
        "The data set to be used is here: https://www.kaggle.com/datasets/ankitverma2010/ecommerce-customer-churn-analysis-and-prediction\n",
        "\n",
        "\n",
        "So, we should be able to predict customer churn using the given data set."
      ],
      "metadata": {
        "id": "ChLjppsXNquz"
      }
    },
    {
      "cell_type": "markdown",
      "source": [
        "## Performance Metrics\n",
        "\n",
        "1. Confusion Matrix\n",
        "\n",
        "  Presents the true positive (tp), true negative (tn), false positive (fp) and false negative (fn) predictions. \n",
        "\n",
        "2. Accuracy\n",
        "\n",
        "  It measures whether both positive and negative predictions were classified correctly.\n",
        "\n",
        "  Accuracy = (tp + tn) / (tp + fp + tn + fn)\n",
        "\n",
        "\n",
        " 3. Precision\n",
        "\n",
        "  It measures the fraction of true positive predictions from all the positive predictions\n",
        "\n",
        "  Precision = tp / (tp + fp)\n",
        "  \n",
        "4. True Positive Rate ( aka Recall )\n",
        "\n",
        "  It measures the fraction of true positive predictions from all positive observations\n",
        "\n",
        "  Recall = tp / (tp + fn)\n",
        "  \n",
        "5. F1 score\n",
        "\n",
        "  This the harmonic mean of **Precision** and **Recall**\n",
        "\n",
        "  F1 = 2 * ((Precision * Recall)/(Precision + Recall))\n"
      ],
      "metadata": {
        "id": "kG814Ow6NzF7"
      }
    },
    {
      "cell_type": "markdown",
      "source": [
        "## Basic Exploratory Data Analysis\n",
        "\n",
        "### Questions:\n",
        "1. What are we trying to predict?\n",
        "2. What kind of data do we have and what are the different types?\n",
        "3. What to do with missing values?"
      ],
      "metadata": {
        "id": "kwzj-OAREE-A"
      }
    },
    {
      "cell_type": "code",
      "source": [
        "# import the libraries\n",
        "import pandas as pd"
      ],
      "metadata": {
        "id": "Vq_6ShVKEIdZ"
      },
      "execution_count": 1,
      "outputs": []
    },
    {
      "cell_type": "code",
      "source": [
        "# import the dataset\n",
        "data = pd.read_csv('https://raw.githubusercontent.com/andrew-vandy/cs5265-ml-foundations/main/E_Commerce_Dataset.csv')"
      ],
      "metadata": {
        "id": "zBo7bPsnETtu"
      },
      "execution_count": 2,
      "outputs": []
    },
    {
      "cell_type": "markdown",
      "source": [
        "### References ###\n",
        "\n",
        "[Gorgias CX Growth Playbook](https://www.gorgias.com/guides/cx-growth-playbook)\n",
        "\n",
        "[Chargebee - eCommerce Churn Rate](https://www.chargebee.com/blog/ecommerce-churn-rate/)\n",
        "\n",
        "[Shopify - Churn Rate in eCommerce](https://www.shopify.com/blog/churn-rate-in-ecommerce)\n",
        "\n",
        "[GainSight - Guide to Churn](https://www.gainsight.com/guides/the-essential-guide-to-churn/)\n",
        "\n",
        "\n",
        "[Oracle - Challenges of building a predictive churn model](https://blogs.oracle.com/ai-and-datascience/post/the-challenges-of-building-a-predictive-churn-model)\n"
      ],
      "metadata": {
        "id": "VI8qeOaw9x2b"
      }
    }
  ]
}